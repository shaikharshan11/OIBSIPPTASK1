{
  "nbformat": 4,
  "nbformat_minor": 0,
  "metadata": {
    "colab": {
      "provenance": []
    },
    "kernelspec": {
      "name": "python3",
      "display_name": "Python 3"
    },
    "language_info": {
      "name": "python"
    }
  },
  "cells": [
    {
      "cell_type": "code",
      "execution_count": 1,
      "metadata": {
        "colab": {
          "base_uri": "https://localhost:8080/"
        },
        "id": "ZK8WVhAfQSgK",
        "outputId": "15491482-3182-48b9-ae67-c365d6a08710"
      },
      "outputs": [
        {
          "output_type": "stream",
          "name": "stdout",
          "text": [
            "Enter your weight in kilograms (kg): 75\n",
            "Enter your height in meters (m): 1.75\n",
            "Your BMI is: 24.49\n",
            "BMI Category: Normal weight\n"
          ]
        }
      ],
      "source": [
        "def calculate_bmi(weight, height):\n",
        "\n",
        "  return weight / (height * height)\n",
        "\n",
        "def interpret_bmi(bmi):\n",
        "  if bmi <= 18.5:\n",
        "    return \"Underweight\"\n",
        "  elif bmi <= 24.9:\n",
        "    return \"Normal weight\"\n",
        "  elif bmi <= 29.9:\n",
        "    return \"Overweight\"\n",
        "  else:\n",
        "    return \"Obese\"\n",
        "\n",
        "weight = float(input(\"Enter your weight in kilograms (kg): \"))\n",
        "height = float(input(\"Enter your height in meters (m): \"))\n",
        "\n",
        "bmi = calculate_bmi(weight, height)\n",
        "category = interpret_bmi(bmi)\n",
        "\n",
        "print(f\"Your BMI is: {bmi:.2f}\")\n",
        "print(f\"BMI Category: {category}\")\n"
      ]
    },
    {
      "cell_type": "code",
      "source": [],
      "metadata": {
        "id": "WDD3BwH5Qgu1"
      },
      "execution_count": null,
      "outputs": []
    }
  ]
}